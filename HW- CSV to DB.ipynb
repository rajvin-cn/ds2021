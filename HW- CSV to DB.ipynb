{
 "cells": [
  {
   "cell_type": "markdown",
   "metadata": {},
   "source": [
    "# <center> HomeWork Assignment - Saving csv to DB\n",
    "***\n"
   ]
  },
  {
   "cell_type": "markdown",
   "metadata": {},
   "source": [
    "<div class=\"alert alert-block alert-warning\">\n",
    "<h2>Improvements:</h2>\n",
    "    <ol><li> <b>Dynamic solution:</b> Table and Columns are created dynamically from file</li>\n",
    "        <li><b>OOPS based:</b> Modular code</li>\n",
    "        <li><b> Bulk insert:</b> used execute many with batch size, batch size is configurable, (<b><i>default = 5000 rows</i></b>)</li>\n",
    "    </ol>\n",
    "</div>"
   ]
  },
  {
   "cell_type": "markdown",
   "metadata": {},
   "source": [
    "#### File_Processor Class\n",
    "***"
   ]
  },
  {
   "cell_type": "code",
   "execution_count": 18,
   "metadata": {},
   "outputs": [],
   "source": [
    "import csv\n",
    "import mysql.connector as con\n",
    "\n",
    "\n",
    "class File_Processor:\n",
    "    def __init__(self,filename,mydb):\n",
    "        self.filename = filename\n",
    "        self.mydb = mydb\n",
    "        if ( not (mydb.is_connected())):\n",
    "            print( 'DB connctions failed, please check connection attributes')\n",
    "    # Helper Function to find total rows\n",
    "    def total_lines(self):\n",
    "        with open(self.filename) as f:\n",
    "          return sum(1 for line in f)      \n",
    "        \n",
    "    def save_to_DB(self , batchsize= 5000):\n",
    "        filename = self.filename\n",
    "        #Call helper function to find rows, exclude header row (-1)\n",
    "        total_rows_infile = self.total_lines() -1\n",
    "        rows_remaining = total_rows_infile\n",
    "        \n",
    "        with open(self.filename, mode='r') as csv_file:\n",
    "         csv_reader = csv.reader(csv_file,delimiter=';')\n",
    "         self.tbl_name = csv_file.name.split('.')[0]\n",
    "         header_row = next(csv_reader)\n",
    "         self.setup_Table(header_row)\n",
    "         row_count = 0\n",
    "         max_size = batchsize\n",
    "         print('batch size is {}'.format(max_size) )\n",
    "         chunk_size = 0\n",
    "         row_list = []\n",
    "         for row in csv_reader:\n",
    "            #if( chunk_size <=max_size):\n",
    "            row_list.append(tuple(row))\n",
    "            chunk_size+=1         \n",
    "            if( (chunk_size >=max_size) or (max_size >= rows_remaining )):\n",
    "                self.save_row(row_list)\n",
    "                row_count += chunk_size \n",
    "                rows_remaining = total_rows_infile - row_count       \n",
    "                chunk_size = 0\n",
    "                row_list.clear()               \n",
    "         print( '{} Rows inserted in to table {}'.format(row_count,self.tbl_name))\n",
    "         \n",
    "    # Function to create table\n",
    "    \n",
    "    def setup_Table(self,header_row):\n",
    "        \n",
    "        tbl_name = self.tbl_name\n",
    "        Col_Names = []\n",
    "        mydb = self.mydb\n",
    "        for ele in  header_row:\n",
    "         Col_Names.append( ele.replace(\"'\", '').replace(' ','_'))\n",
    "        self.ColumnNames = Col_Names\n",
    "        \n",
    "        try:\n",
    "           \n",
    "            createsqltable = \"\"\"CREATE TABLE IF NOT EXISTS \"\"\" + tbl_name + \" (\" + \" VARCHAR(250),\".join(Col_Names) + \" VARCHAR(250))\"\n",
    "            cursor = mydb.cursor()\n",
    "            cursor.execute(createsqltable)\n",
    "            mydb.commit()\n",
    "        except Exception as e:\n",
    "            mydb.close()\n",
    "            print(str(e))\n",
    "            \n",
    "    # Function to insert rows in to Table  \n",
    "    \n",
    "    def save_row(self,row):\n",
    "        \n",
    "       \n",
    "        try:\n",
    "            mydb = self.mydb\n",
    "            colum_names = self.ColumnNames\n",
    "            table_name =  self.tbl_name\n",
    "            query = \"\"\"insert into \"\"\"+ table_name + \"({0}) values ({1})\"\n",
    "            query = query.format(','.join(colum_names), ','.join('?' * len(colum_names)))\n",
    "            query1 = query.replace('?','%s')\n",
    "            cursor = mydb.cursor()\n",
    "            cursor.executemany(query1, row)\n",
    "            mydb.commit()\n",
    "        except Exception as e:\n",
    "             mydb.close()\n",
    "             print(str(e))\n",
    "   \n",
    "        \n",
    "    \n",
    "\n",
    "\n",
    "    "
   ]
  },
  {
   "cell_type": "markdown",
   "metadata": {},
   "source": [
    "<div class=\"alert alert-block alert-warning\">\n",
    "<h2>Steps to Execute:</h2>\n",
    "    <ol><li> <b>Create file processorConnection object :</b><br/><span style =\"color:blue\" ><i>  mydb = con.connect(host=\"localhost\", user=\"admin\",passwd=\"admin\",use_pure=True,db='ineuron_db')</span>  </li>\n",
    "        <li> <b>Create file processor object:</b><br/><span style =\"color:blue\" ><i> pf =  File_Processor('carbon_nanotubes.csv',mydb)</span></li>\n",
    "        <li><b>call Save_to_DB:</b> <br/> <span style =\"color:blue\" ><i> pf.save_to_DB(batchsize=10000)</span></li>\n",
    "    </ol>\n",
    "</div>"
   ]
  },
  {
   "cell_type": "markdown",
   "metadata": {},
   "source": [
    "#### Execution\n",
    "***"
   ]
  },
  {
   "cell_type": "code",
   "execution_count": 17,
   "metadata": {},
   "outputs": [
    {
     "name": "stdout",
     "output_type": "stream",
     "text": [
      "batch size is 10700\n",
      "10721 Rows inserted in to table carbon_nanotubes\n"
     ]
    }
   ],
   "source": [
    "# Execution code\n",
    "        \n",
    "mydb = con.connect(host=\"localhost\", user=\"admin\",passwd=\"admin\",use_pure=True,db='ineuron_db')       \n",
    "pf =  File_Processor('carbon_nanotubes.csv',mydb)\n",
    "pf.save_to_DB( batchsize = 10700)"
   ]
  },
  {
   "cell_type": "code",
   "execution_count": null,
   "metadata": {},
   "outputs": [],
   "source": []
  },
  {
   "cell_type": "code",
   "execution_count": null,
   "metadata": {},
   "outputs": [],
   "source": []
  }
 ],
 "metadata": {
  "kernelspec": {
   "display_name": "Python 3",
   "language": "python",
   "name": "python3"
  },
  "language_info": {
   "codemirror_mode": {
    "name": "ipython",
    "version": 3
   },
   "file_extension": ".py",
   "mimetype": "text/x-python",
   "name": "python",
   "nbconvert_exporter": "python",
   "pygments_lexer": "ipython3",
   "version": "3.7.6"
  }
 },
 "nbformat": 4,
 "nbformat_minor": 4
}
